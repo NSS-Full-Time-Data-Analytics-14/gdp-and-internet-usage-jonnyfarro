{
 "cells": [
  {
   "cell_type": "code",
   "execution_count": null,
   "id": "188c2cb2-5d2b-408d-8487-67cf8e8a9f2e",
   "metadata": {},
   "outputs": [],
   "source": [
    "import pandas as pd\n",
    "import numpy as np\n",
    "import matplotlib.pyplot as plt\n",
    "import seaborn as sns"
   ]
  },
  {
   "cell_type": "code",
   "execution_count": null,
   "id": "6b41befe-7fa1-41e6-a62b-6b1606febe35",
   "metadata": {
    "panel-layout": {
     "height": 173,
     "visible": true,
     "width": 100
    }
   },
   "outputs": [],
   "source": [
    "gdp_df = pd.read_csv(\"/Users/jonathanfarro/Documents/NSS/Python/projects/data/gdp_percapita.csv\")\n",
    "gdp_df.head()"
   ]
  },
  {
   "cell_type": "code",
   "execution_count": null,
   "id": "295888dc-a0ef-41ea-9f07-cd41bd9b03d9",
   "metadata": {
    "panel-layout": {
     "height": 27,
     "visible": true,
     "width": 100
    }
   },
   "outputs": [],
   "source": [
    "gdp_df.shape"
   ]
  },
  {
   "cell_type": "code",
   "execution_count": null,
   "id": "691cbc17-8637-411e-bea3-a72ef8da635b",
   "metadata": {
    "panel-layout": {
     "height": 27,
     "visible": true,
     "width": 100
    }
   },
   "outputs": [],
   "source": [
    "gdp_df.columns"
   ]
  },
  {
   "cell_type": "markdown",
   "id": "5f053c0a-922a-4c6a-bad9-e965216ee8fc",
   "metadata": {
    "panel-layout": {
     "height": 52,
     "visible": true,
     "width": 100
    }
   },
   "source": [
    "How many rows and columns are in `gdp_df`? What are the data types of each column? "
   ]
  },
  {
   "cell_type": "markdown",
   "id": "aadf18ee-f7b3-4e1c-b5d0-f3485e020833",
   "metadata": {
    "panel-layout": {
     "height": 51,
     "visible": true,
     "width": 100
    }
   },
   "source": [
    "7662,4 -objects "
   ]
  },
  {
   "cell_type": "code",
   "execution_count": null,
   "id": "d3f57ffe-36e3-43d5-b2aa-93ae137ecd4a",
   "metadata": {},
   "outputs": [],
   "source": [
    "gdp_df = gdp_df.drop(columns= ['Value Footnotes'])\n",
    "gdp_df = gdp_df.rename(columns = {'Country or Area':'country','Year':'year','Value':'GDP_Per_Capita'})\n",
    "gdp_df.head()"
   ]
  },
  {
   "cell_type": "code",
   "execution_count": null,
   "id": "500c5602-2c10-4713-9e8f-2294917b7586",
   "metadata": {},
   "outputs": [],
   "source": [
    "\n"
   ]
  },
  {
   "cell_type": "code",
   "execution_count": null,
   "id": "542f59e9-4e6c-45d6-a40f-545af5855c97",
   "metadata": {},
   "outputs": [],
   "source": [
    "count_years = gdp_df.groupby('country')['year'].count().reset_index(name = 'years_count')\n",
    "count_years"
   ]
  },
  {
   "cell_type": "code",
   "execution_count": null,
   "id": "fe0654d5-3d04-4fab-9c1b-cc84a4149814",
   "metadata": {},
   "outputs": [],
   "source": [
    "c_missing_years = count_years.loc[count_years['years_count'] != 33 ]\n",
    "c_missing_years.head()\n",
    "\n",
    "c_missing_years = count_years.loc[count_years['years_count'] != 33 ].count()\n",
    "c_missing_years.head()\n",
    "\n"
   ]
  },
  {
   "cell_type": "markdown",
   "id": "da7e3911-1239-4e65-88d8-2dc68c4e9ecf",
   "metadata": {},
   "source": [
    "**_number of countries missing years = 40_**"
   ]
  },
  {
   "cell_type": "code",
   "execution_count": null,
   "id": "aa851689-ee6f-458e-99e7-a1babac09e93",
   "metadata": {},
   "outputs": [],
   "source": [
    "full_years = count_years.loc[count_years['years_count'] == 33 ].count().head()\n",
    "full_years.head()"
   ]
  },
  {
   "cell_type": "markdown",
   "id": "13e50c32-2e36-47bd-ad31-539bf39377b6",
   "metadata": {},
   "source": [
    "**_202 countries with 33 years of data_**"
   ]
  },
  {
   "cell_type": "code",
   "execution_count": null,
   "id": "69bcad91-8c67-4b3e-9892-ccc0ea6caf11",
   "metadata": {},
   "outputs": [],
   "source": [
    "gdp_df.head()"
   ]
  },
  {
   "cell_type": "code",
   "execution_count": null,
   "id": "f5508e1f-44c7-4320-a105-a4942af8af10",
   "metadata": {},
   "outputs": [],
   "source": [
    "\n",
    "\n",
    "sns.set_theme(style=\"darkgrid\")\n",
    "\n",
    "\n",
    "sns.histplot(data=gdp_df, x=\"GDP_Per_Capita\",kde=True )\n",
    "plt.title('per capita')\n",
    "plt.show()"
   ]
  },
  {
   "cell_type": "code",
   "execution_count": null,
   "id": "8d49f12c-6f18-4452-bc58-74f086c003db",
   "metadata": {},
   "outputs": [],
   "source": []
  }
 ],
 "metadata": {
  "kernelspec": {
   "display_name": "Python 3 (ipykernel)",
   "language": "python",
   "name": "python3"
  },
  "language_info": {
   "codemirror_mode": {
    "name": "ipython",
    "version": 3
   },
   "file_extension": ".py",
   "mimetype": "text/x-python",
   "name": "python",
   "nbconvert_exporter": "python",
   "pygments_lexer": "ipython3",
   "version": "3.12.4"
  },
  "panel-cell-order": [
   "6b41befe-7fa1-41e6-a62b-6b1606febe35",
   "295888dc-a0ef-41ea-9f07-cd41bd9b03d9",
   "691cbc17-8637-411e-bea3-a72ef8da635b",
   "5f053c0a-922a-4c6a-bad9-e965216ee8fc",
   "aadf18ee-f7b3-4e1c-b5d0-f3485e020833"
  ]
 },
 "nbformat": 4,
 "nbformat_minor": 5
}
