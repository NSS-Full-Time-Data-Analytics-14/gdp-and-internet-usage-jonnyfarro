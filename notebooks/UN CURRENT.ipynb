{
 "cells": [
  {
   "cell_type": "code",
   "execution_count": null,
   "id": "188c2cb2-5d2b-408d-8487-67cf8e8a9f2e",
   "metadata": {},
   "outputs": [],
   "source": [
    "import pandas as pd\n",
    "import numpy as np\n",
    "import matplotlib.pyplot as plt\n",
    "import seaborn as sns"
   ]
  },
  {
   "cell_type": "code",
   "execution_count": null,
   "id": "6b41befe-7fa1-41e6-a62b-6b1606febe35",
   "metadata": {
    "panel-layout": {
     "height": 173,
     "visible": true,
     "width": 100
    }
   },
   "outputs": [],
   "source": [
    "gdp_df = pd.read_csv(\"/Users/jonathanfarro/Documents/NSS/Python/projects/gdp-and-internet-usage-jonnyfarro/data/gdp_percapita.csv\")\n",
    "gdp_df.head()\n"
   ]
  },
  {
   "cell_type": "code",
   "execution_count": null,
   "id": "295888dc-a0ef-41ea-9f07-cd41bd9b03d9",
   "metadata": {
    "panel-layout": {
     "height": 27,
     "visible": true,
     "width": 100
    }
   },
   "outputs": [],
   "source": [
    "gdp_df.shape"
   ]
  },
  {
   "cell_type": "code",
   "execution_count": null,
   "id": "691cbc17-8637-411e-bea3-a72ef8da635b",
   "metadata": {
    "panel-layout": {
     "height": 27,
     "visible": true,
     "width": 100
    }
   },
   "outputs": [],
   "source": [
    "gdp_df.columns"
   ]
  },
  {
   "cell_type": "markdown",
   "id": "5f053c0a-922a-4c6a-bad9-e965216ee8fc",
   "metadata": {
    "panel-layout": {
     "height": 52,
     "visible": true,
     "width": 100
    }
   },
   "source": [
    "How many rows and columns are in `gdp_df`? What are the data types of each column? "
   ]
  },
  {
   "cell_type": "markdown",
   "id": "aadf18ee-f7b3-4e1c-b5d0-f3485e020833",
   "metadata": {
    "panel-layout": {
     "height": 51,
     "visible": true,
     "width": 100
    }
   },
   "source": [
    "7662,4 -objects "
   ]
  },
  {
   "cell_type": "code",
   "execution_count": null,
   "id": "d3f57ffe-36e3-43d5-b2aa-93ae137ecd4a",
   "metadata": {},
   "outputs": [],
   "source": [
    "gdp_df = gdp_df.drop(columns= ['Value Footnotes'])\n",
    "gdp_df = gdp_df.rename(columns = {'Country or Area':'country','Year':'year','Value':'GDP_Per_Capita'})\n",
    "gdp_df.head()"
   ]
  },
  {
   "cell_type": "code",
   "execution_count": null,
   "id": "500c5602-2c10-4713-9e8f-2294917b7586",
   "metadata": {},
   "outputs": [],
   "source": [
    "\n"
   ]
  },
  {
   "cell_type": "code",
   "execution_count": null,
   "id": "542f59e9-4e6c-45d6-a40f-545af5855c97",
   "metadata": {
    "scrolled": true
   },
   "outputs": [],
   "source": [
    "count_years = gdp_df.groupby('country')['year'].count().reset_index(name = 'years_count')\n",
    "count_years"
   ]
  },
  {
   "cell_type": "code",
   "execution_count": null,
   "id": "fe0654d5-3d04-4fab-9c1b-cc84a4149814",
   "metadata": {},
   "outputs": [],
   "source": [
    "c_missing_years = count_years.loc[count_years['years_count'] != 33 ]\n",
    "c_missing_years.describe()\n"
   ]
  },
  {
   "cell_type": "markdown",
   "id": "da7e3911-1239-4e65-88d8-2dc68c4e9ecf",
   "metadata": {},
   "source": [
    "**_number of countries missing years = 40_**"
   ]
  },
  {
   "cell_type": "code",
   "execution_count": null,
   "id": "aa851689-ee6f-458e-99e7-a1babac09e93",
   "metadata": {},
   "outputs": [],
   "source": [
    "full_years = count_years.loc[count_years['years_count'] == 33 ].count()\n",
    "full_years.head()"
   ]
  },
  {
   "cell_type": "markdown",
   "id": "13e50c32-2e36-47bd-ad31-539bf39377b6",
   "metadata": {},
   "source": [
    "**_202 countries with 33 years of data_**"
   ]
  },
  {
   "cell_type": "code",
   "execution_count": null,
   "id": "f5508e1f-44c7-4320-a105-a4942af8af10",
   "metadata": {
    "scrolled": true
   },
   "outputs": [],
   "source": [
    "sns.set_theme(style=\"darkgrid\")\n",
    "sns.histplot(data=gdp_df_2020, x=\"GDP_Per_Capita\" ,kde=True, color= 'red')\n",
    "plt.title('gdp per capita')\n",
    "plt.xlabel('GDP')\n",
    "plt.ylabel('')\n",
    "plt.show()"
   ]
  },
  {
   "cell_type": "code",
   "execution_count": null,
   "id": "69bcad91-8c67-4b3e-9892-ccc0ea6caf11",
   "metadata": {},
   "outputs": [],
   "source": [
    "\n",
    "gdp_df_2020 = gdp_df.loc[gdp_df['year'] == 2020]\n",
    "gdp_df_2020 = gdp_df_2020.sort_values(by = 'GDP_Per_Capita', ascending = False).reset_index(drop=True)\n",
    "gdp_df_2020 = gdp_df_2020.round(2)\n"
   ]
  },
  {
   "cell_type": "code",
   "execution_count": null,
   "id": "8d49f12c-6f18-4452-bc58-74f086c003db",
   "metadata": {},
   "outputs": [],
   "source": [
    "# a density plot, a boxplot, and a violin plot"
   ]
  },
  {
   "cell_type": "code",
   "execution_count": null,
   "id": "f0fc730a-9562-45fc-9abc-9a8e192d07e4",
   "metadata": {},
   "outputs": [],
   "source": [
    "sns.kdeplot(gdp_df_2020['GDP_Per_Capita'])"
   ]
  },
  {
   "cell_type": "code",
   "execution_count": null,
   "id": "06beabab-6cf2-4cd7-bd4e-dd15a1e08473",
   "metadata": {},
   "outputs": [],
   "source": [
    "sns.catplot(data=gdp_df_2020, x=\"year\", y=\"GDP_Per_Capita\", kind=\"box\")\n"
   ]
  },
  {
   "cell_type": "code",
   "execution_count": null,
   "id": "b574350f-18c7-43e4-b81b-cdc222c7ad6c",
   "metadata": {},
   "outputs": [],
   "source": [
    "\n",
    "# plot\n",
    "sns.violinplot(x=gdp_df_2020[\"year\"], y=gdp_df_2020[\"GDP_Per_Capita\"])\n",
    "\n"
   ]
  },
  {
   "cell_type": "markdown",
   "id": "4eff8dae-d7a7-4c7b-854a-a9ce42fc53ce",
   "metadata": {},
   "source": [
    "9. What was the median GDP per capita value in 2020?"
   ]
  },
  {
   "cell_type": "markdown",
   "id": "d0368d7c-4414-420a-9cdd-e912b9920472",
   "metadata": {},
   "source": [
    "96759.335"
   ]
  },
  {
   "cell_type": "code",
   "execution_count": null,
   "id": "c5893f2f-7cb6-4459-a132-df4f18476964",
   "metadata": {},
   "outputs": [],
   "source": [
    "\n",
    "\n",
    "median_gdp = gdp_df_2020[\"GDP_Per_Capita\"].median()\n",
    "print(median_gdp)\n"
   ]
  },
  {
   "cell_type": "markdown",
   "id": "7ea3433a-1efa-42a8-ba1a-0ed74fc2d485",
   "metadata": {},
   "source": [
    "10. For this question, you're going to create some visualizations to compare GDP per capita values for the years 1990, 2000, 2010, and 2020. Start by subsetting your data to just these 4 years into a new DataFrame named gdp_decades. Using this, create the following 4 plots:\n",
    "\t* A boxplot\n",
    "\t* A barplot (check out the Barplot with Seaborn section: https://www.python-graph-gallery.com/barplot/#Seaborn)\n",
    "\t* A scatterplot\n",
    "\t* A scatterplot with a trend line overlaid (see this regplot example: https://www.python-graph-gallery.com/42-custom-linear-regression-fit-seaborn)  "
   ]
  },
  {
   "cell_type": "code",
   "execution_count": null,
   "id": "e75953b6-612e-4a17-abd2-4f59a9c0e5c3",
   "metadata": {},
   "outputs": [],
   "source": [
    "gdp_decades = gdp_df[gdp_df['year'].isin([1990, 2000, 2010, 2020])]\n",
    "gdp_decades = gdp_decades.reset_index (drop=True)\n",
    "gdp_decades"
   ]
  },
  {
   "cell_type": "code",
   "execution_count": null,
   "id": "d63256f1-53c5-4ffa-8903-445e8a61be4c",
   "metadata": {},
   "outputs": [],
   "source": [
    "sns.catplot(data=gdp_decades, x=\"year\", y=\"GDP_Per_Capita\", kind=\"box\")"
   ]
  },
  {
   "cell_type": "code",
   "execution_count": null,
   "id": "0f6600c5-0d8e-4d40-9f5f-dfb7f3fc006a",
   "metadata": {},
   "outputs": [],
   "source": [
    "sns.barplot(gdp_decades, x=\"year\", y=\"GDP_Per_Capita\")"
   ]
  },
  {
   "cell_type": "code",
   "execution_count": null,
   "id": "164bdbd5-c30e-4cf6-85ec-0c59e3d7aa52",
   "metadata": {},
   "outputs": [],
   "source": [
    "sns.scatterplot(data=gdp_decades, x=\"year\", y=\"GDP_Per_Capita\")"
   ]
  },
  {
   "cell_type": "code",
   "execution_count": null,
   "id": "626623fa-fa36-47b8-b2d7-96d6384ea302",
   "metadata": {},
   "outputs": [],
   "source": [
    "fig, ax = plt.subplots(figsize=(8, 6))\n",
    "sns.regplot(\n",
    "    x=gdp_decades[\"year\"],\n",
    "    y=gdp_decades[\"GDP_Per_Capita\"],\n",
    "    line_kws={\"color\": \"green\", \"linewidth\": 1.5},\n",
    "    ax=ax\n",
    ")\n",
    "plt.show()"
   ]
  },
  {
   "cell_type": "markdown",
   "id": "3caa8770-5407-4dec-91da-c908bf34ab5d",
   "metadata": {},
   "source": [
    "# 10\n"
   ]
  },
  {
   "cell_type": "code",
   "execution_count": null,
   "id": "7c74b646-00dd-41d7-b544-ed999ff74806",
   "metadata": {},
   "outputs": [],
   "source": [
    "# i think boxplot and barplot showed the most information and shows GDP growth by decade."
   ]
  },
  {
   "cell_type": "markdown",
   "id": "7d8fa237-ea64-40aa-b619-d1c066e445c5",
   "metadata": {},
   "source": [
    "11. Which country was the first to have a GDP per capita greater than $100,000?"
   ]
  },
  {
   "cell_type": "code",
   "execution_count": null,
   "id": "f0b63947-aa7f-4b68-9fd5-d8d0d83e929d",
   "metadata": {},
   "outputs": [],
   "source": [
    "gdp_filtered = gdp_df.loc[(gdp_df['GDP_Per_Capita'] > 100000) & (gdp_df['year'] == 1990)]\n",
    "gdp_filtered"
   ]
  },
  {
   "cell_type": "markdown",
   "id": "7945cf54-4d10-469d-955b-5625fb818a5e",
   "metadata": {},
   "source": [
    " # #11. United Arab Emirates"
   ]
  },
  {
   "cell_type": "markdown",
   "id": "777e5485-8bfd-451d-bd26-21e0af0a5756",
   "metadata": {},
   "source": [
    "# 12. Which country had the highest GDP per capita in 2020? Create a plot showing how this country's GDP per capita has changed over the timespan of the dataset."
   ]
  },
  {
   "cell_type": "code",
   "execution_count": null,
   "id": "c56f2a20-686e-41ce-abc9-a67649c9327d",
   "metadata": {},
   "outputs": [],
   "source": [
    "gdp_2020 = gdp_df.loc[(gdp_df['year'] == 2020)]\n",
    "\n",
    "\n",
    "\n",
    "\n"
   ]
  },
  {
   "cell_type": "code",
   "execution_count": null,
   "id": "95f0b3b0-1b1c-4f5b-aa74-74bdb1544f25",
   "metadata": {},
   "outputs": [],
   "source": [
    "gdp_2020.max()"
   ]
  },
  {
   "cell_type": "code",
   "execution_count": null,
   "id": "350c9522-76ab-433f-8e82-2053542d25bc",
   "metadata": {},
   "outputs": [],
   "source": [
    "zimbabwe = gdp_df.loc[(gdp_df['country'] == \"Zimbabwe\")]\n",
    "zimbabwe"
   ]
  },
  {
   "cell_type": "code",
   "execution_count": null,
   "id": "c0f8501a-6842-495f-99a9-116fe13ede1a",
   "metadata": {},
   "outputs": [],
   "source": [
    "sns.scatterplot(zimbabwe, x=\"year\", y=\"GDP_Per_Capita\")"
   ]
  },
  {
   "cell_type": "code",
   "execution_count": null,
   "id": "3ec7c9ee-6364-4ccd-8113-8466ae6513ee",
   "metadata": {},
   "outputs": [],
   "source": [
    "gdp_2020.min()"
   ]
  },
  {
   "cell_type": "code",
   "execution_count": null,
   "id": "5f3f9822-59b3-4860-b93e-830fd87bc16a",
   "metadata": {},
   "outputs": [],
   "source": [
    "afgan = gdp_df.loc[(gdp_df['country'] == \"Afghanistan\")]\n"
   ]
  },
  {
   "cell_type": "code",
   "execution_count": null,
   "id": "7d93daae-cb6b-435e-b6c5-9f9e43c9cd64",
   "metadata": {},
   "outputs": [],
   "source": [
    "sns.scatterplot(afgan, x=\"year\", y=\"GDP_Per_Capita\")"
   ]
  },
  {
   "cell_type": "code",
   "execution_count": null,
   "id": "6b7bda9a-8601-42ed-af5c-90c71b51ea27",
   "metadata": {},
   "outputs": [],
   "source": [
    "gdp_2020.describe()"
   ]
  },
  {
   "cell_type": "code",
   "execution_count": null,
   "id": "37f0ee55-53eb-456c-8f6c-d5c686b51645",
   "metadata": {},
   "outputs": [],
   "source": [
    "gdp_1990 = gdp_df.loc[(gdp_df['year'] == 1990)]\n",
    "gdp_1990.GDP_Per_Capita.min()"
   ]
  },
  {
   "cell_type": "code",
   "execution_count": null,
   "id": "3b814423-5ffa-4f08-b467-1807c715bcc2",
   "metadata": {
    "scrolled": true
   },
   "outputs": [],
   "source": [
    "this = pd.concat([gdp_2020, gdp_1990])"
   ]
  },
  {
   "cell_type": "code",
   "execution_count": null,
   "id": "cd58ca0d-8abd-4635-b7e5-dfcda2088456",
   "metadata": {},
   "outputs": [],
   "source": []
  },
  {
   "cell_type": "code",
   "execution_count": null,
   "id": "a63447d6-483b-4e2b-bfbe-e4f48b894f13",
   "metadata": {},
   "outputs": [],
   "source": [
    "gdp_2020['GDP_Per_Capita'].mean()\n"
   ]
  },
  {
   "cell_type": "code",
   "execution_count": null,
   "id": "a6a408e7-338e-4400-8bf5-9c1b33a0195b",
   "metadata": {},
   "outputs": [],
   "source": [
    "gdp_1990['GDP_Per_Capita'].mean()"
   ]
  },
  {
   "cell_type": "code",
   "execution_count": null,
   "id": "3292fdde-32e0-4e6f-94dd-422aeada4ec0",
   "metadata": {},
   "outputs": [],
   "source": [
    "# 13 bonus\n",
    "merged = pd.merge(gdp_1990, gdp_2020, on='country')\n",
    "\n",
    "merged = merged.rename(columns = {'GDP_Per_Capita_x': 'gdp_1990', 'GDP_Per_Capita_y': 'gdp_2020','year_x':'year','year_y':'year'})\n",
    "\n",
    "less = merged[merged.gdp_2020 < merged.gdp_1990]\n",
    "\n",
    "less = less.reset_index(drop=True)\n",
    "\n",
    "less['gdp_1990'] = less['gdp_1990'].round(0)\n",
    "\n",
    "less['gdp_2020'] = less['gdp_2020'].round(0)\n",
    "\n",
    "less\n"
   ]
  },
  {
   "cell_type": "code",
   "execution_count": null,
   "id": "a1f0bd38-89ae-4d18-89ac-b2c89e2d41c9",
   "metadata": {},
   "outputs": [],
   "source": [
    "internet = pd.read_csv('/Users/jonathanfarro/Documents/NSS/Python/projects/gdp-and-internet-usage-jonnyfarro/data/internet_use.csv')\n",
    "internet "
   ]
  },
  {
   "cell_type": "code",
   "execution_count": null,
   "id": "cda79570-4448-4a97-8167-ed5ecc8fb314",
   "metadata": {},
   "outputs": [],
   "source": [
    "internet = internet.drop(columns= ['Value Footnotes'])\n",
    "        "
   ]
  },
  {
   "cell_type": "code",
   "execution_count": null,
   "id": "b9fbaa62-5760-43a7-8a3c-b5f49399b5c9",
   "metadata": {},
   "outputs": [],
   "source": [
    "internet.info()\n"
   ]
  },
  {
   "cell_type": "code",
   "execution_count": null,
   "id": "b9bf053f-4e2f-45d2-884f-58ab5fc65f42",
   "metadata": {},
   "outputs": [],
   "source": [
    "internet = internet.rename(columns = { 'Country or Area': 'country', 'Year': 'year','Value':'Internet_Users_Pct'})\n",
    "internet"
   ]
  },
  {
   "cell_type": "code",
   "execution_count": null,
   "id": "99c80b6f-f1b5-4cdd-9178-4084faccdce6",
   "metadata": {},
   "outputs": [],
   "source": [
    "internet = internet.round()\n",
    "internet\n"
   ]
  },
  {
   "cell_type": "markdown",
   "id": "5a1e4596-51a2-4596-974a-fb74ac34edf1",
   "metadata": {},
   "source": [
    "17. What is the first year to have a non-zero internet users percentage value? # 2001\n"
   ]
  },
  {
   "cell_type": "code",
   "execution_count": null,
   "id": "6134c08e-b798-43b8-9497-4ac9c908900c",
   "metadata": {},
   "outputs": [],
   "source": [
    "internet.loc[internet['Internet_Users_Pct'] > 0 ].sort_values(by = 'Internet_Users_Pct', ascending = True\n",
    "                                                              )"
   ]
  },
  {
   "cell_type": "markdown",
   "id": "f3915fa8-cbf2-4a73-8b3f-8c4ff1d3f0ad",
   "metadata": {},
   "source": [
    "#### 18. How does the distribution of internet users percent differ for 2000 and 2014?"
   ]
  },
  {
   "cell_type": "code",
   "execution_count": null,
   "id": "ca962fcf-22b5-404d-8142-95422d374653",
   "metadata": {},
   "outputs": [],
   "source": [
    "int_2000 = internet.loc[internet['year'] == 2000]\n",
    "int_2014 = internet.loc[internet['year'] == 2014]\n",
    "int_2000\n",
    "int_2014"
   ]
  },
  {
   "cell_type": "code",
   "execution_count": null,
   "id": "001b9cb4-6d8d-4f27-9591-45b72168e361",
   "metadata": {},
   "outputs": [],
   "source": []
  },
  {
   "cell_type": "code",
   "execution_count": null,
   "id": "97572085-8090-4789-a8f5-44542669da96",
   "metadata": {
    "scrolled": true
   },
   "outputs": [],
   "source": [
    "sns.set_theme(style='darkgrid')\n",
    "sns.kdeplot(int_2000['Internet_Users_Pct'], fill = True, color = 'y')\n",
    "sns.kdeplot(int_2014['Internet_Users_Pct'], fill = True, color = 'k')\n",
    "plt.show()"
   ]
  },
  {
   "cell_type": "markdown",
   "id": "c751a294-39e6-4a0c-af0f-d707f0266481",
   "metadata": {},
   "source": [
    "#### 19. For how many countries was the percentage of internet users below 5% in 2014?"
   ]
  },
  {
   "cell_type": "code",
   "execution_count": null,
   "id": "ab60b45b-d9f6-48e1-9c80-16768405e50c",
   "metadata": {},
   "outputs": [],
   "source": [
    "int_2014.country.loc[int_2014.Internet_Users_Pct < 5].count()\n"
   ]
  },
  {
   "cell_type": "markdown",
   "id": "2511b1b4-8960-4ad6-aca7-1f387986cb8d",
   "metadata": {},
   "source": [
    "#### 20. Merge the two DataFrames to one. Do this in a way that keeps **all rows** from each of the two DataFrames. Call the new DataFrame `gdp_and_internet_use`. Look at the first and last few rows to confirm that it merged correctly.\n"
   ]
  },
  {
   "cell_type": "code",
   "execution_count": null,
   "id": "119b295e-9431-4fbf-b8ce-b826a4748d68",
   "metadata": {},
   "outputs": [],
   "source": [
    "gdp_and_internet_use = pd.merge(internet, gdp_df, \n",
    "                               left_on = ['country','year'], right_on = ['country', 'year'],\n",
    "                               how = 'outer')\n",
    "gdp_iu = gdp_and_internet_use"
   ]
  },
  {
   "cell_type": "markdown",
   "id": "909160a0-0918-4f30-93b1-cefe85f8d0f0",
   "metadata": {},
   "source": [
    "21. Find the three countries with the highest internet users percentage in 2014. Use a seaborn FacetGrid (https://seaborn.pydata.org/generated/seaborn.FacetGrid.html) to compare how the GDP per capita has changed over time for these three countries. What do you notice?\n",
    "    "
   ]
  },
  {
   "cell_type": "code",
   "execution_count": null,
   "id": "f29bd64a-ca48-4e5c-9c36-7252fe5bff7e",
   "metadata": {},
   "outputs": [],
   "source": [
    "gdp_iu_2014 = gdp_iu.loc[gdp_iu.year == 2014] "
   ]
  },
  {
   "cell_type": "code",
   "execution_count": null,
   "id": "e4740fa4-96d7-4aca-9c24-6a9eb5554587",
   "metadata": {},
   "outputs": [],
   "source": [
    "gdp_iu_2014.sort_values(by = 'Internet_Users_Pct', ascending = False).head(6  )"
   ]
  },
  {
   "cell_type": "code",
   "execution_count": null,
   "id": "980296ff-fab0-4dc1-a86f-74c1b31671bb",
   "metadata": {},
   "outputs": [],
   "source": [
    "top_3 = gdp_iu.loc[gdp_iu['country'] == ['Iceland'] | gdp_iu['country'] == ['Bermuda'] | gdp_iu['country'] == ['Norway']]\n",
    "top_3"
   ]
  },
  {
   "cell_type": "code",
   "execution_count": null,
   "id": "37352eaa-43f2-43c5-bd8a-abbb8c7ec06d",
   "metadata": {},
   "outputs": [],
   "source": []
  },
  {
   "cell_type": "code",
   "execution_count": null,
   "id": "bce76cec-e223-428f-8cb3-99823afe2442",
   "metadata": {},
   "outputs": [],
   "source": []
  }
 ],
 "metadata": {
  "kernelspec": {
   "display_name": "Python 3 (ipykernel)",
   "language": "python",
   "name": "python3"
  },
  "language_info": {
   "codemirror_mode": {
    "name": "ipython",
    "version": 3
   },
   "file_extension": ".py",
   "mimetype": "text/x-python",
   "name": "python",
   "nbconvert_exporter": "python",
   "pygments_lexer": "ipython3",
   "version": "3.12.4"
  },
  "panel-cell-order": [
   "6b41befe-7fa1-41e6-a62b-6b1606febe35",
   "295888dc-a0ef-41ea-9f07-cd41bd9b03d9",
   "691cbc17-8637-411e-bea3-a72ef8da635b",
   "5f053c0a-922a-4c6a-bad9-e965216ee8fc",
   "aadf18ee-f7b3-4e1c-b5d0-f3485e020833"
  ]
 },
 "nbformat": 4,
 "nbformat_minor": 5
}
